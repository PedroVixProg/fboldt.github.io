{
  "nbformat": 4,
  "nbformat_minor": 0,
  "metadata": {
    "colab": {
      "name": "CustomClassifier.ipynb",
      "provenance": [],
      "collapsed_sections": [],
      "toc_visible": true,
      "include_colab_link": true
    },
    "kernelspec": {
      "name": "python3",
      "display_name": "Python 3"
    }
  },
  "cells": [
    {
      "cell_type": "markdown",
      "metadata": {
        "id": "view-in-github",
        "colab_type": "text"
      },
      "source": [
        "<a href=\"https://colab.research.google.com/github/fboldt/fboldt.github.io/blob/master/CustomClassifier.ipynb\" target=\"_parent\"><img src=\"https://colab.research.google.com/assets/colab-badge.svg\" alt=\"Open In Colab\"/></a>"
      ]
    },
    {
      "cell_type": "markdown",
      "metadata": {
        "id": "YL0VrjbZoIl-",
        "colab_type": "text"
      },
      "source": [
        "How to create a custom classifier"
      ]
    },
    {
      "cell_type": "markdown",
      "metadata": {
        "id": "Bn15b0ZubHMr",
        "colab_type": "text"
      },
      "source": [
        "# Environment setup"
      ]
    },
    {
      "cell_type": "markdown",
      "metadata": {
        "id": "fetrFZIIog1I",
        "colab_type": "text"
      },
      "source": [
        "## Loading binary dataset"
      ]
    },
    {
      "cell_type": "code",
      "metadata": {
        "id": "-556U0fYXIOw",
        "colab_type": "code",
        "outputId": "cfb9e676-176b-42b3-af4c-d76c37c8e9f4",
        "colab": {
          "base_uri": "https://localhost:8080/",
          "height": 34
        }
      },
      "source": [
        "from sklearn.datasets import load_breast_cancer\n",
        "data = load_breast_cancer()\n",
        "data.keys()"
      ],
      "execution_count": 1,
      "outputs": [
        {
          "output_type": "execute_result",
          "data": {
            "text/plain": [
              "dict_keys(['data', 'target', 'target_names', 'DESCR', 'feature_names', 'filename'])"
            ]
          },
          "metadata": {
            "tags": []
          },
          "execution_count": 1
        }
      ]
    },
    {
      "cell_type": "code",
      "metadata": {
        "id": "8lVOn8uk8yww",
        "colab_type": "code",
        "outputId": "233516fa-0ec6-4d25-961a-b001f935b5f4",
        "colab": {
          "base_uri": "https://localhost:8080/",
          "height": 1000
        }
      },
      "source": [
        "print(data.DESCR)"
      ],
      "execution_count": 2,
      "outputs": [
        {
          "output_type": "stream",
          "text": [
            ".. _breast_cancer_dataset:\n",
            "\n",
            "Breast cancer wisconsin (diagnostic) dataset\n",
            "--------------------------------------------\n",
            "\n",
            "**Data Set Characteristics:**\n",
            "\n",
            "    :Number of Instances: 569\n",
            "\n",
            "    :Number of Attributes: 30 numeric, predictive attributes and the class\n",
            "\n",
            "    :Attribute Information:\n",
            "        - radius (mean of distances from center to points on the perimeter)\n",
            "        - texture (standard deviation of gray-scale values)\n",
            "        - perimeter\n",
            "        - area\n",
            "        - smoothness (local variation in radius lengths)\n",
            "        - compactness (perimeter^2 / area - 1.0)\n",
            "        - concavity (severity of concave portions of the contour)\n",
            "        - concave points (number of concave portions of the contour)\n",
            "        - symmetry \n",
            "        - fractal dimension (\"coastline approximation\" - 1)\n",
            "\n",
            "        The mean, standard error, and \"worst\" or largest (mean of the three\n",
            "        largest values) of these features were computed for each image,\n",
            "        resulting in 30 features.  For instance, field 3 is Mean Radius, field\n",
            "        13 is Radius SE, field 23 is Worst Radius.\n",
            "\n",
            "        - class:\n",
            "                - WDBC-Malignant\n",
            "                - WDBC-Benign\n",
            "\n",
            "    :Summary Statistics:\n",
            "\n",
            "    ===================================== ====== ======\n",
            "                                           Min    Max\n",
            "    ===================================== ====== ======\n",
            "    radius (mean):                        6.981  28.11\n",
            "    texture (mean):                       9.71   39.28\n",
            "    perimeter (mean):                     43.79  188.5\n",
            "    area (mean):                          143.5  2501.0\n",
            "    smoothness (mean):                    0.053  0.163\n",
            "    compactness (mean):                   0.019  0.345\n",
            "    concavity (mean):                     0.0    0.427\n",
            "    concave points (mean):                0.0    0.201\n",
            "    symmetry (mean):                      0.106  0.304\n",
            "    fractal dimension (mean):             0.05   0.097\n",
            "    radius (standard error):              0.112  2.873\n",
            "    texture (standard error):             0.36   4.885\n",
            "    perimeter (standard error):           0.757  21.98\n",
            "    area (standard error):                6.802  542.2\n",
            "    smoothness (standard error):          0.002  0.031\n",
            "    compactness (standard error):         0.002  0.135\n",
            "    concavity (standard error):           0.0    0.396\n",
            "    concave points (standard error):      0.0    0.053\n",
            "    symmetry (standard error):            0.008  0.079\n",
            "    fractal dimension (standard error):   0.001  0.03\n",
            "    radius (worst):                       7.93   36.04\n",
            "    texture (worst):                      12.02  49.54\n",
            "    perimeter (worst):                    50.41  251.2\n",
            "    area (worst):                         185.2  4254.0\n",
            "    smoothness (worst):                   0.071  0.223\n",
            "    compactness (worst):                  0.027  1.058\n",
            "    concavity (worst):                    0.0    1.252\n",
            "    concave points (worst):               0.0    0.291\n",
            "    symmetry (worst):                     0.156  0.664\n",
            "    fractal dimension (worst):            0.055  0.208\n",
            "    ===================================== ====== ======\n",
            "\n",
            "    :Missing Attribute Values: None\n",
            "\n",
            "    :Class Distribution: 212 - Malignant, 357 - Benign\n",
            "\n",
            "    :Creator:  Dr. William H. Wolberg, W. Nick Street, Olvi L. Mangasarian\n",
            "\n",
            "    :Donor: Nick Street\n",
            "\n",
            "    :Date: November, 1995\n",
            "\n",
            "This is a copy of UCI ML Breast Cancer Wisconsin (Diagnostic) datasets.\n",
            "https://goo.gl/U2Uwz2\n",
            "\n",
            "Features are computed from a digitized image of a fine needle\n",
            "aspirate (FNA) of a breast mass.  They describe\n",
            "characteristics of the cell nuclei present in the image.\n",
            "\n",
            "Separating plane described above was obtained using\n",
            "Multisurface Method-Tree (MSM-T) [K. P. Bennett, \"Decision Tree\n",
            "Construction Via Linear Programming.\" Proceedings of the 4th\n",
            "Midwest Artificial Intelligence and Cognitive Science Society,\n",
            "pp. 97-101, 1992], a classification method which uses linear\n",
            "programming to construct a decision tree.  Relevant features\n",
            "were selected using an exhaustive search in the space of 1-4\n",
            "features and 1-3 separating planes.\n",
            "\n",
            "The actual linear program used to obtain the separating plane\n",
            "in the 3-dimensional space is that described in:\n",
            "[K. P. Bennett and O. L. Mangasarian: \"Robust Linear\n",
            "Programming Discrimination of Two Linearly Inseparable Sets\",\n",
            "Optimization Methods and Software 1, 1992, 23-34].\n",
            "\n",
            "This database is also available through the UW CS ftp server:\n",
            "\n",
            "ftp ftp.cs.wisc.edu\n",
            "cd math-prog/cpo-dataset/machine-learn/WDBC/\n",
            "\n",
            ".. topic:: References\n",
            "\n",
            "   - W.N. Street, W.H. Wolberg and O.L. Mangasarian. Nuclear feature extraction \n",
            "     for breast tumor diagnosis. IS&T/SPIE 1993 International Symposium on \n",
            "     Electronic Imaging: Science and Technology, volume 1905, pages 861-870,\n",
            "     San Jose, CA, 1993.\n",
            "   - O.L. Mangasarian, W.N. Street and W.H. Wolberg. Breast cancer diagnosis and \n",
            "     prognosis via linear programming. Operations Research, 43(4), pages 570-577, \n",
            "     July-August 1995.\n",
            "   - W.H. Wolberg, W.N. Street, and O.L. Mangasarian. Machine learning techniques\n",
            "     to diagnose breast cancer from fine-needle aspirates. Cancer Letters 77 (1994) \n",
            "     163-171.\n"
          ],
          "name": "stdout"
        }
      ]
    },
    {
      "cell_type": "markdown",
      "metadata": {
        "id": "sivGbYZXbQH0",
        "colab_type": "text"
      },
      "source": [
        "## Spliting train and test"
      ]
    },
    {
      "cell_type": "code",
      "metadata": {
        "id": "ALYpr3tvbT8w",
        "colab_type": "code",
        "outputId": "fea8ff63-e8ed-4e96-b3fe-588ba52b9eb8",
        "colab": {
          "base_uri": "https://localhost:8080/",
          "height": 51
        }
      },
      "source": [
        "from sklearn.model_selection import train_test_split\n",
        "X,y = data.data,data.target\n",
        "print(X.shape, y.shape)\n",
        "X_train, X_test, y_train, y_test = train_test_split(X, y, test_size=0.33)\n",
        "print(X_train.shape, X_test.shape, y_train.shape, y_test.shape)"
      ],
      "execution_count": 3,
      "outputs": [
        {
          "output_type": "stream",
          "text": [
            "(569, 30) (569,)\n",
            "(381, 30) (188, 30) (381,) (188,)\n"
          ],
          "name": "stdout"
        }
      ]
    },
    {
      "cell_type": "markdown",
      "metadata": {
        "id": "jdRwJyj0ol9i",
        "colab_type": "text"
      },
      "source": [
        "#Testing a simple classifier"
      ]
    },
    {
      "cell_type": "markdown",
      "metadata": {
        "id": "-oRhjQpVdZVE",
        "colab_type": "text"
      },
      "source": [
        "## Logistic Regression"
      ]
    },
    {
      "cell_type": "code",
      "metadata": {
        "id": "6XrA3uutcmFl",
        "colab_type": "code",
        "outputId": "64bca6c3-78cf-4ea5-b259-0dc95419ae0c",
        "colab": {
          "base_uri": "https://localhost:8080/",
          "height": 34
        }
      },
      "source": [
        "from sklearn.linear_model import LogisticRegression\n",
        "lr = LogisticRegression(solver='liblinear',multi_class='auto')\n",
        "lr.fit(X_train,y_train)\n",
        "lr.score(X_test,y_test)"
      ],
      "execution_count": 4,
      "outputs": [
        {
          "output_type": "execute_result",
          "data": {
            "text/plain": [
              "0.9627659574468085"
            ]
          },
          "metadata": {
            "tags": []
          },
          "execution_count": 4
        }
      ]
    },
    {
      "cell_type": "markdown",
      "metadata": {
        "id": "3CHpdomyeIcy",
        "colab_type": "text"
      },
      "source": [
        "## Defining an evaluating class"
      ]
    },
    {
      "cell_type": "code",
      "metadata": {
        "id": "qonCNr-eeMgy",
        "colab_type": "code",
        "colab": {}
      },
      "source": [
        "class PerformanceEvaluator():\n",
        "  def __init__(self, X, y):\n",
        "    self.X_train, self.X_test, self.y_train, self.y_test = train_test_split(X, y, test_size=0.33)\n",
        "  def score(self, clf):\n",
        "    clf.fit(self.X_train,self.y_train)\n",
        "    return clf.score(self.X_test,self.y_test)"
      ],
      "execution_count": 0,
      "outputs": []
    },
    {
      "cell_type": "markdown",
      "metadata": {
        "id": "JQfA26Qe-b7r",
        "colab_type": "text"
      },
      "source": [
        "## Random Forest"
      ]
    },
    {
      "cell_type": "code",
      "metadata": {
        "id": "t9amZ8j3g0Dg",
        "colab_type": "code",
        "colab": {}
      },
      "source": [
        "from sklearn.ensemble import RandomForestClassifier\n",
        "rf = RandomForestClassifier(100)"
      ],
      "execution_count": 0,
      "outputs": []
    },
    {
      "cell_type": "markdown",
      "metadata": {
        "id": "B3w57r2f-i_f",
        "colab_type": "text"
      },
      "source": [
        "## Evaluating"
      ]
    },
    {
      "cell_type": "code",
      "metadata": {
        "id": "bgUoBBmtf6x_",
        "colab_type": "code",
        "outputId": "f8d7484e-74f3-43a1-f9cf-c8b476785e5d",
        "colab": {
          "base_uri": "https://localhost:8080/",
          "height": 51
        }
      },
      "source": [
        "pe = PerformanceEvaluator(X, y)\n",
        "print('LogisticRegression     ', pe.score(lr))\n",
        "print('RandomForestClassifier ', pe.score(rf))"
      ],
      "execution_count": 7,
      "outputs": [
        {
          "output_type": "stream",
          "text": [
            "LogisticRegression      0.9521276595744681\n",
            "RandomForestClassifier  0.973404255319149\n"
          ],
          "name": "stdout"
        }
      ]
    },
    {
      "cell_type": "markdown",
      "metadata": {
        "id": "FyJhLi4d_Sq2",
        "colab_type": "text"
      },
      "source": [
        "## Improving Evaluator"
      ]
    },
    {
      "cell_type": "code",
      "metadata": {
        "id": "u6f9e4O6-qnQ",
        "colab_type": "code",
        "outputId": "f9c04f5e-84ab-4050-d8a2-1ae430dfe379",
        "colab": {
          "base_uri": "https://localhost:8080/",
          "height": 51
        }
      },
      "source": [
        "class PerformanceEvaluator():\n",
        "  def __init__(self, X, y):\n",
        "    self.X_train, self.X_test, self.y_train, self.y_test = train_test_split(X, y, test_size=0.33)\n",
        "  def score(self, clf):\n",
        "    clf.fit(self.X_train,self.y_train)\n",
        "    return clf.score(self.X_test,self.y_test)\n",
        "  def evaluate(self, clfs):\n",
        "    for name,clf in clfs:\n",
        "      print('{:>25}: {}'.format(name,self.score(clf)))\n",
        "\n",
        "clfs = [\n",
        "    ('LogisticRegression',LogisticRegression(solver='liblinear',multi_class='auto')),\n",
        "    ('RandomForestClassifier',RandomForestClassifier(100))\n",
        "]\n",
        "pe = PerformanceEvaluator(X,y)\n",
        "pe.evaluate(clfs)"
      ],
      "execution_count": 8,
      "outputs": [
        {
          "output_type": "stream",
          "text": [
            "       LogisticRegression: 0.9468085106382979\n",
            "   RandomForestClassifier: 0.9468085106382979\n"
          ],
          "name": "stdout"
        }
      ]
    },
    {
      "cell_type": "markdown",
      "metadata": {
        "id": "eo8Qo3Y5iEuK",
        "colab_type": "text"
      },
      "source": [
        "# Custom Classifier"
      ]
    },
    {
      "cell_type": "code",
      "metadata": {
        "id": "GBengMQTiD5j",
        "colab_type": "code",
        "colab": {}
      },
      "source": [
        "from sklearn.base import BaseEstimator, ClassifierMixin\n",
        "from collections import Counter\n",
        "import numpy as np\n",
        "class ZeroR(BaseEstimator, ClassifierMixin):\n",
        "  def __init__(self):\n",
        "    pass\n",
        "  def fit(self, X, y=None):\n",
        "    self.answer = Counter(y).most_common(1)[0][0]\n",
        "  def predict(self, X, y=None):\n",
        "    return np.ones(X.shape[0])*self.answer"
      ],
      "execution_count": 0,
      "outputs": []
    },
    {
      "cell_type": "markdown",
      "metadata": {
        "id": "xNQm48EHAG11",
        "colab_type": "text"
      },
      "source": [
        "## Evaluate with Custom Classifier"
      ]
    },
    {
      "cell_type": "code",
      "metadata": {
        "id": "0G-2kxAtj23v",
        "colab_type": "code",
        "outputId": "5719f09b-614b-4d9b-9bbd-fe4e6de8e99a",
        "colab": {
          "base_uri": "https://localhost:8080/",
          "height": 68
        }
      },
      "source": [
        "clfs.append(('ZeroR',ZeroR()))\n",
        "pe.evaluate(clfs)"
      ],
      "execution_count": 10,
      "outputs": [
        {
          "output_type": "stream",
          "text": [
            "       LogisticRegression: 0.9468085106382979\n",
            "   RandomForestClassifier: 0.9574468085106383\n",
            "                    ZeroR: 0.6063829787234043\n"
          ],
          "name": "stdout"
        }
      ]
    },
    {
      "cell_type": "markdown",
      "metadata": {
        "id": "ohW75MF6n3th",
        "colab_type": "text"
      },
      "source": [
        "## Loading multiclass dataset"
      ]
    },
    {
      "cell_type": "code",
      "metadata": {
        "id": "khNlhdIFn7eO",
        "colab_type": "code",
        "outputId": "e6848029-7ce5-498e-81f4-c12a090de3f5",
        "colab": {
          "base_uri": "https://localhost:8080/",
          "height": 1000
        }
      },
      "source": [
        "from sklearn.datasets import load_wine\n",
        "data = load_wine()\n",
        "print(data.keys())\n",
        "print(data.DESCR)\n",
        "X,y = data.data,data.target"
      ],
      "execution_count": 11,
      "outputs": [
        {
          "output_type": "stream",
          "text": [
            "dict_keys(['data', 'target', 'target_names', 'DESCR', 'feature_names'])\n",
            ".. _wine_dataset:\n",
            "\n",
            "Wine recognition dataset\n",
            "------------------------\n",
            "\n",
            "**Data Set Characteristics:**\n",
            "\n",
            "    :Number of Instances: 178 (50 in each of three classes)\n",
            "    :Number of Attributes: 13 numeric, predictive attributes and the class\n",
            "    :Attribute Information:\n",
            " \t\t- Alcohol\n",
            " \t\t- Malic acid\n",
            " \t\t- Ash\n",
            "\t\t- Alcalinity of ash  \n",
            " \t\t- Magnesium\n",
            "\t\t- Total phenols\n",
            " \t\t- Flavanoids\n",
            " \t\t- Nonflavanoid phenols\n",
            " \t\t- Proanthocyanins\n",
            "\t\t- Color intensity\n",
            " \t\t- Hue\n",
            " \t\t- OD280/OD315 of diluted wines\n",
            " \t\t- Proline\n",
            "\n",
            "    - class:\n",
            "            - class_0\n",
            "            - class_1\n",
            "            - class_2\n",
            "\t\t\n",
            "    :Summary Statistics:\n",
            "    \n",
            "    ============================= ==== ===== ======= =====\n",
            "                                   Min   Max   Mean     SD\n",
            "    ============================= ==== ===== ======= =====\n",
            "    Alcohol:                      11.0  14.8    13.0   0.8\n",
            "    Malic Acid:                   0.74  5.80    2.34  1.12\n",
            "    Ash:                          1.36  3.23    2.36  0.27\n",
            "    Alcalinity of Ash:            10.6  30.0    19.5   3.3\n",
            "    Magnesium:                    70.0 162.0    99.7  14.3\n",
            "    Total Phenols:                0.98  3.88    2.29  0.63\n",
            "    Flavanoids:                   0.34  5.08    2.03  1.00\n",
            "    Nonflavanoid Phenols:         0.13  0.66    0.36  0.12\n",
            "    Proanthocyanins:              0.41  3.58    1.59  0.57\n",
            "    Colour Intensity:              1.3  13.0     5.1   2.3\n",
            "    Hue:                          0.48  1.71    0.96  0.23\n",
            "    OD280/OD315 of diluted wines: 1.27  4.00    2.61  0.71\n",
            "    Proline:                       278  1680     746   315\n",
            "    ============================= ==== ===== ======= =====\n",
            "\n",
            "    :Missing Attribute Values: None\n",
            "    :Class Distribution: class_0 (59), class_1 (71), class_2 (48)\n",
            "    :Creator: R.A. Fisher\n",
            "    :Donor: Michael Marshall (MARSHALL%PLU@io.arc.nasa.gov)\n",
            "    :Date: July, 1988\n",
            "\n",
            "This is a copy of UCI ML Wine recognition datasets.\n",
            "https://archive.ics.uci.edu/ml/machine-learning-databases/wine/wine.data\n",
            "\n",
            "The data is the results of a chemical analysis of wines grown in the same\n",
            "region in Italy by three different cultivators. There are thirteen different\n",
            "measurements taken for different constituents found in the three types of\n",
            "wine.\n",
            "\n",
            "Original Owners: \n",
            "\n",
            "Forina, M. et al, PARVUS - \n",
            "An Extendible Package for Data Exploration, Classification and Correlation. \n",
            "Institute of Pharmaceutical and Food Analysis and Technologies,\n",
            "Via Brigata Salerno, 16147 Genoa, Italy.\n",
            "\n",
            "Citation:\n",
            "\n",
            "Lichman, M. (2013). UCI Machine Learning Repository\n",
            "[https://archive.ics.uci.edu/ml]. Irvine, CA: University of California,\n",
            "School of Information and Computer Science. \n",
            "\n",
            ".. topic:: References\n",
            "\n",
            "  (1) S. Aeberhard, D. Coomans and O. de Vel, \n",
            "  Comparison of Classifiers in High Dimensional Settings, \n",
            "  Tech. Rep. no. 92-02, (1992), Dept. of Computer Science and Dept. of  \n",
            "  Mathematics and Statistics, James Cook University of North Queensland. \n",
            "  (Also submitted to Technometrics). \n",
            "\n",
            "  The data was used with many others for comparing various \n",
            "  classifiers. The classes are separable, though only RDA \n",
            "  has achieved 100% correct classification. \n",
            "  (RDA : 100%, QDA 99.4%, LDA 98.9%, 1NN 96.1% (z-transformed data)) \n",
            "  (All results using the leave-one-out technique) \n",
            "\n",
            "  (2) S. Aeberhard, D. Coomans and O. de Vel, \n",
            "  \"THE CLASSIFICATION PERFORMANCE OF RDA\" \n",
            "  Tech. Rep. no. 92-01, (1992), Dept. of Computer Science and Dept. of \n",
            "  Mathematics and Statistics, James Cook University of North Queensland. \n",
            "  (Also submitted to Journal of Chemometrics).\n",
            "\n"
          ],
          "name": "stdout"
        }
      ]
    },
    {
      "cell_type": "markdown",
      "metadata": {
        "id": "4DHJGyA2CHVh",
        "colab_type": "text"
      },
      "source": [
        "## Testing the new dataset"
      ]
    },
    {
      "cell_type": "code",
      "metadata": {
        "id": "QuiJME7bCJyB",
        "colab_type": "code",
        "outputId": "d4cadfcb-7598-4f3f-dc91-94a794750fbc",
        "colab": {
          "base_uri": "https://localhost:8080/",
          "height": 68
        }
      },
      "source": [
        "pe = PerformanceEvaluator(X,y)\n",
        "pe.evaluate(clfs)"
      ],
      "execution_count": 12,
      "outputs": [
        {
          "output_type": "stream",
          "text": [
            "       LogisticRegression: 0.9661016949152542\n",
            "   RandomForestClassifier: 0.9661016949152542\n",
            "                    ZeroR: 0.4067796610169492\n"
          ],
          "name": "stdout"
        }
      ]
    },
    {
      "cell_type": "markdown",
      "metadata": {
        "id": "D5oJwQwXCaeK",
        "colab_type": "text"
      },
      "source": [
        "# Using Keras to implement a Neural Network"
      ]
    },
    {
      "cell_type": "code",
      "metadata": {
        "id": "eLBf_uaaqEdo",
        "colab_type": "code",
        "outputId": "4924e20c-5531-4f84-c5ae-6c4f51e930d1",
        "colab": {
          "base_uri": "https://localhost:8080/",
          "height": 122
        }
      },
      "source": [
        "import tensorflow as tf\n",
        "\n",
        "model = tf.keras.models.Sequential([\n",
        "    tf.keras.layers.Dense(3, activation='softmax')\n",
        "])\n",
        "model.compile(optimizer='rmsprop',\n",
        "              loss='categorical_crossentropy')\n",
        "\n",
        "X_train, X_test, y_train, y_test = train_test_split(X, y, test_size=0.33)\n",
        "\n",
        "labels, ids = np.unique(y_train, return_inverse=True)\n",
        "y_cat = tf.compat.v1.keras.utils.to_categorical(ids)\n",
        "model.fit(X_train,y_cat)\n",
        "\n",
        "predictions = model.predict(X_test)\n",
        "\n",
        "hits = labels[np.argmax(predictions,axis=1)]==y_test\n",
        "print(hits.mean())"
      ],
      "execution_count": 13,
      "outputs": [
        {
          "output_type": "stream",
          "text": [
            "WARNING:tensorflow:From /usr/local/lib/python3.6/dist-packages/tensorflow/python/ops/init_ops.py:1251: calling VarianceScaling.__init__ (from tensorflow.python.ops.init_ops) with dtype is deprecated and will be removed in a future version.\n",
            "Instructions for updating:\n",
            "Call initializer instance with the dtype argument instead of passing it to the constructor\n",
            "119/119 [==============================] - 1s 5ms/sample - loss: 150.0385\n",
            "0.1864406779661017\n"
          ],
          "name": "stdout"
        }
      ]
    },
    {
      "cell_type": "markdown",
      "metadata": {
        "id": "vPkgqjv6DbEm",
        "colab_type": "text"
      },
      "source": [
        "## Fitting many times"
      ]
    },
    {
      "cell_type": "code",
      "metadata": {
        "id": "YO2sWXiwDgD2",
        "colab_type": "code",
        "outputId": "3e181f35-4d79-433c-e55c-f4786649271a",
        "colab": {
          "base_uri": "https://localhost:8080/",
          "height": 204
        }
      },
      "source": [
        "model.fit(X_train,y_cat, epochs=5)\n",
        "\n",
        "predictions = model.predict(X_test)\n",
        "\n",
        "hits = labels[np.argmax(predictions,axis=1)]==y_test\n",
        "print(hits.mean())"
      ],
      "execution_count": 14,
      "outputs": [
        {
          "output_type": "stream",
          "text": [
            "Epoch 1/5\n",
            "119/119 [==============================] - 0s 116us/sample - loss: 145.5362\n",
            "Epoch 2/5\n",
            "119/119 [==============================] - 0s 84us/sample - loss: 143.3942\n",
            "Epoch 3/5\n",
            "119/119 [==============================] - 0s 82us/sample - loss: 141.3835\n",
            "Epoch 4/5\n",
            "119/119 [==============================] - 0s 79us/sample - loss: 139.4633\n",
            "Epoch 5/5\n",
            "119/119 [==============================] - 0s 71us/sample - loss: 137.5562\n",
            "0.0847457627118644\n"
          ],
          "name": "stdout"
        }
      ]
    },
    {
      "cell_type": "markdown",
      "metadata": {
        "id": "gWFy9SmWE2HZ",
        "colab_type": "text"
      },
      "source": [
        "## Fitting more"
      ]
    },
    {
      "cell_type": "code",
      "metadata": {
        "id": "x6l3XmmeE4zU",
        "colab_type": "code",
        "outputId": "7651e2c5-3ce4-4a33-9175-05a5980a5941",
        "colab": {
          "base_uri": "https://localhost:8080/",
          "height": 34
        }
      },
      "source": [
        "model.fit(X_train,y_cat, epochs=500, verbose=False)\n",
        "\n",
        "predictions = model.predict(X_test)\n",
        "\n",
        "hits = labels[np.argmax(predictions,axis=1)]==y_test\n",
        "print(hits.mean())"
      ],
      "execution_count": 15,
      "outputs": [
        {
          "output_type": "stream",
          "text": [
            "0.8983050847457628\n"
          ],
          "name": "stdout"
        }
      ]
    },
    {
      "cell_type": "markdown",
      "metadata": {
        "id": "-WoMa3f8FpP8",
        "colab_type": "text"
      },
      "source": [
        "## Wrapping the ANN into a Classifier"
      ]
    },
    {
      "cell_type": "code",
      "metadata": {
        "id": "BoMzNIa2yt5k",
        "colab_type": "code",
        "colab": {}
      },
      "source": [
        "import tensorflow as tf\n",
        "\n",
        "class ANN(BaseEstimator, ClassifierMixin):\n",
        "  def __init__(self):\n",
        "    pass\n",
        "  \n",
        "  def fit(self, X, y=None):\n",
        "    self.labels, ids = np.unique(y, return_inverse=True)\n",
        "    y_cat = tf.compat.v1.keras.utils.to_categorical(ids)\n",
        "    \n",
        "    self.model = tf.keras.models.Sequential([\n",
        "        tf.keras.layers.Dense(y_cat.shape[1], activation='softmax')\n",
        "    ])    \n",
        "    self.model.compile(optimizer='rmsprop',\n",
        "                  loss='categorical_crossentropy')\n",
        "    \n",
        "    self.model.fit(X,y_cat, epochs=500, verbose=False)\n",
        "    \n",
        "  def predict(self, X, y=None):\n",
        "    predictions = self.model.predict(X)\n",
        "    return self.labels[np.argmax(predictions,axis=1)]"
      ],
      "execution_count": 0,
      "outputs": []
    },
    {
      "cell_type": "markdown",
      "metadata": {
        "id": "kAB-No3gGZaa",
        "colab_type": "text"
      },
      "source": [
        "## Evaluating the ANN"
      ]
    },
    {
      "cell_type": "code",
      "metadata": {
        "id": "OkIgjdO9GcMq",
        "colab_type": "code",
        "outputId": "f2ae8b64-0864-4223-cb86-0cb6d13458f0",
        "colab": {
          "base_uri": "https://localhost:8080/",
          "height": 85
        }
      },
      "source": [
        "clfs.append(('Artificial Neural Network',ANN()))\n",
        "pe.evaluate(clfs)"
      ],
      "execution_count": 17,
      "outputs": [
        {
          "output_type": "stream",
          "text": [
            "       LogisticRegression: 0.9661016949152542\n",
            "   RandomForestClassifier: 0.9661016949152542\n",
            "                    ZeroR: 0.4067796610169492\n",
            "Artificial Neural Network: 0.8813559322033898\n"
          ],
          "name": "stdout"
        }
      ]
    },
    {
      "cell_type": "markdown",
      "metadata": {
        "id": "sn-uh2ZbJ4fD",
        "colab_type": "text"
      },
      "source": [
        "## Adding pipeline"
      ]
    },
    {
      "cell_type": "code",
      "metadata": {
        "id": "JuPXvWrGJ7RE",
        "colab_type": "code",
        "outputId": "d100eccd-3fd5-407a-8618-cc3b8dbaef6f",
        "colab": {
          "base_uri": "https://localhost:8080/",
          "height": 85
        }
      },
      "source": [
        "clfs.pop()\n",
        "from sklearn.pipeline import Pipeline\n",
        "from sklearn.preprocessing import StandardScaler\n",
        "annpl = Pipeline([\n",
        "    ('Standadization', StandardScaler()),\n",
        "    ('ann', ANN())\n",
        "])\n",
        "clfs.append(('Artificial Neural Network',annpl))\n",
        "pe.evaluate(clfs)"
      ],
      "execution_count": 18,
      "outputs": [
        {
          "output_type": "stream",
          "text": [
            "       LogisticRegression: 0.9661016949152542\n",
            "   RandomForestClassifier: 0.9491525423728814\n",
            "                    ZeroR: 0.4067796610169492\n",
            "Artificial Neural Network: 0.9661016949152542\n"
          ],
          "name": "stdout"
        }
      ]
    },
    {
      "cell_type": "markdown",
      "metadata": {
        "id": "oD-62YG4HoF4",
        "colab_type": "text"
      },
      "source": [
        "## ANN with Hidden Layer"
      ]
    },
    {
      "cell_type": "code",
      "metadata": {
        "id": "XsDx17tIHrpn",
        "colab_type": "code",
        "colab": {}
      },
      "source": [
        "import tensorflow as tf\n",
        "\n",
        "class ANNwHL(BaseEstimator, ClassifierMixin):\n",
        "  def __init__(self):\n",
        "    pass\n",
        "  \n",
        "  def fit(self, X, y=None):\n",
        "    self.labels, ids = np.unique(y, return_inverse=True)\n",
        "    y_cat = tf.compat.v1.keras.utils.to_categorical(ids)\n",
        "    \n",
        "    self.model = tf.keras.models.Sequential([\n",
        "        tf.keras.layers.Dense(X.shape[1]*2, activation='sigmoid'),\n",
        "        tf.keras.layers.Dense(y_cat.shape[1], activation='softmax')\n",
        "    ])    \n",
        "    self.model.compile(optimizer='rmsprop',\n",
        "                  loss='categorical_crossentropy')\n",
        "    \n",
        "    self.model.fit(X,y_cat, epochs=500, verbose=False)\n",
        "    \n",
        "  def predict(self, X, y=None):\n",
        "    predictions = self.model.predict(X)\n",
        "    return self.labels[np.argmax(predictions,axis=1)]\n",
        "\n",
        "\n",
        "\n",
        "clfs.append(('ANN with Hidden Layer',Pipeline([\n",
        "    ('Standadization', StandardScaler()),\n",
        "    ('ann', ANNwHL())\n",
        "])))\n"
      ],
      "execution_count": 0,
      "outputs": []
    },
    {
      "cell_type": "markdown",
      "metadata": {
        "id": "p8gNgZrqICMl",
        "colab_type": "text"
      },
      "source": [
        "## Evaluating ANN with hidden layer"
      ]
    },
    {
      "cell_type": "code",
      "metadata": {
        "id": "95LlSPhOIFN_",
        "colab_type": "code",
        "outputId": "f5b27ce8-a20e-4d73-e910-592ff31210ee",
        "colab": {
          "base_uri": "https://localhost:8080/",
          "height": 102
        }
      },
      "source": [
        "pe.evaluate(clfs)"
      ],
      "execution_count": 20,
      "outputs": [
        {
          "output_type": "stream",
          "text": [
            "       LogisticRegression: 0.9661016949152542\n",
            "   RandomForestClassifier: 0.9661016949152542\n",
            "                    ZeroR: 0.4067796610169492\n",
            "Artificial Neural Network: 0.9830508474576272\n",
            "    ANN with Hidden Layer: 0.9661016949152542\n"
          ],
          "name": "stdout"
        }
      ]
    },
    {
      "cell_type": "markdown",
      "metadata": {
        "id": "z2iQy-RHVbJd",
        "colab_type": "text"
      },
      "source": [
        "# Another Dataset"
      ]
    },
    {
      "cell_type": "code",
      "metadata": {
        "id": "TpLCgQVwVd-N",
        "colab_type": "code",
        "outputId": "3346940e-1d3c-4a79-c899-061be2f62076",
        "colab": {
          "base_uri": "https://localhost:8080/",
          "height": 816
        }
      },
      "source": [
        "from sklearn.datasets import load_digits\n",
        "data = load_digits()\n",
        "print(data.keys())\n",
        "print(data.DESCR)\n",
        "\n",
        "X,y = data.data,data.target"
      ],
      "execution_count": 21,
      "outputs": [
        {
          "output_type": "stream",
          "text": [
            "dict_keys(['data', 'target', 'target_names', 'images', 'DESCR'])\n",
            ".. _digits_dataset:\n",
            "\n",
            "Optical recognition of handwritten digits dataset\n",
            "--------------------------------------------------\n",
            "\n",
            "**Data Set Characteristics:**\n",
            "\n",
            "    :Number of Instances: 5620\n",
            "    :Number of Attributes: 64\n",
            "    :Attribute Information: 8x8 image of integer pixels in the range 0..16.\n",
            "    :Missing Attribute Values: None\n",
            "    :Creator: E. Alpaydin (alpaydin '@' boun.edu.tr)\n",
            "    :Date: July; 1998\n",
            "\n",
            "This is a copy of the test set of the UCI ML hand-written digits datasets\n",
            "https://archive.ics.uci.edu/ml/datasets/Optical+Recognition+of+Handwritten+Digits\n",
            "\n",
            "The data set contains images of hand-written digits: 10 classes where\n",
            "each class refers to a digit.\n",
            "\n",
            "Preprocessing programs made available by NIST were used to extract\n",
            "normalized bitmaps of handwritten digits from a preprinted form. From a\n",
            "total of 43 people, 30 contributed to the training set and different 13\n",
            "to the test set. 32x32 bitmaps are divided into nonoverlapping blocks of\n",
            "4x4 and the number of on pixels are counted in each block. This generates\n",
            "an input matrix of 8x8 where each element is an integer in the range\n",
            "0..16. This reduces dimensionality and gives invariance to small\n",
            "distortions.\n",
            "\n",
            "For info on NIST preprocessing routines, see M. D. Garris, J. L. Blue, G.\n",
            "T. Candela, D. L. Dimmick, J. Geist, P. J. Grother, S. A. Janet, and C.\n",
            "L. Wilson, NIST Form-Based Handprint Recognition System, NISTIR 5469,\n",
            "1994.\n",
            "\n",
            ".. topic:: References\n",
            "\n",
            "  - C. Kaynak (1995) Methods of Combining Multiple Classifiers and Their\n",
            "    Applications to Handwritten Digit Recognition, MSc Thesis, Institute of\n",
            "    Graduate Studies in Science and Engineering, Bogazici University.\n",
            "  - E. Alpaydin, C. Kaynak (1998) Cascading Classifiers, Kybernetika.\n",
            "  - Ken Tang and Ponnuthurai N. Suganthan and Xi Yao and A. Kai Qin.\n",
            "    Linear dimensionalityreduction using relevance weighted LDA. School of\n",
            "    Electrical and Electronic Engineering Nanyang Technological University.\n",
            "    2005.\n",
            "  - Claudio Gentile. A New Approximate Maximal Margin Classification\n",
            "    Algorithm. NIPS. 2000.\n"
          ],
          "name": "stdout"
        }
      ]
    },
    {
      "cell_type": "markdown",
      "metadata": {
        "id": "vQbnu121WSJp",
        "colab_type": "text"
      },
      "source": [
        "## Plotting some samples"
      ]
    },
    {
      "cell_type": "code",
      "metadata": {
        "id": "ulrGs5dVWWqD",
        "colab_type": "code",
        "outputId": "eb0601e4-504c-47ca-c741-d5b72d038570",
        "colab": {
          "base_uri": "https://localhost:8080/",
          "height": 1000
        }
      },
      "source": [
        "import matplotlib.pyplot as plt\n",
        "plt.gray()\n",
        "for i in range(10):\n",
        "  plt.matshow(data.images[i]) \n",
        "  plt.show() "
      ],
      "execution_count": 22,
      "outputs": [
        {
          "output_type": "display_data",
          "data": {
            "text/plain": [
              "<Figure size 432x288 with 0 Axes>"
            ]
          },
          "metadata": {
            "tags": []
          }
        },
        {
          "output_type": "display_data",
          "data": {
            "image/png": "[encoded data removed]",
            "text/plain": [
              "<Figure size 288x288 with 1 Axes>"
            ]
          },
          "metadata": {
            "tags": []
          }
        },
        {
          "output_type": "display_data",
          "data": {
            "image/png": "[encoded data removed]",
            "text/plain": [
              "<Figure size 288x288 with 1 Axes>"
            ]
          },
          "metadata": {
            "tags": []
          }
        },
        {
          "output_type": "display_data",
          "data": {
            "image/png": "[encoded data removed]",
            "text/plain": [
              "<Figure size 288x288 with 1 Axes>"
            ]
          },
          "metadata": {
            "tags": []
          }
        },
        {
          "output_type": "display_data",
          "data": {
            "image/png": "[encoded data removed]",
            "text/plain": [
              "<Figure size 288x288 with 1 Axes>"
            ]
          },
          "metadata": {
            "tags": []
          }
        },
        {
          "output_type": "display_data",
          "data": {
            "image/png": "[encoded data removed]",
            "text/plain": [
              "<Figure size 288x288 with 1 Axes>"
            ]
          },
          "metadata": {
            "tags": []
          }
        },
        {
          "output_type": "display_data",
          "data": {
            "image/png": "[encoded data removed]",
            "text/plain": [
              "<Figure size 288x288 with 1 Axes>"
            ]
          },
          "metadata": {
            "tags": []
          }
        },
        {
          "output_type": "display_data",
          "data": {
            "image/png": "[encoded data removed]",
            "text/plain": [
              "<Figure size 288x288 with 1 Axes>"
            ]
          },
          "metadata": {
            "tags": []
          }
        },
        {
          "output_type": "display_data",
          "data": {
            "image/png": "[encoded data removed]",
            "text/plain": [
              "<Figure size 288x288 with 1 Axes>"
            ]
          },
          "metadata": {
            "tags": []
          }
        },
        {
          "output_type": "display_data",
          "data": {
            "image/png": "[encoded data removed]",
            "text/plain": [
              "<Figure size 288x288 with 1 Axes>"
            ]
          },
          "metadata": {
            "tags": []
          }
        },
        {
          "output_type": "display_data",
          "data": {
            "image/png": "[encoded data removed]",
            "text/plain": [
              "<Figure size 288x288 with 1 Axes>"
            ]
          },
          "metadata": {
            "tags": []
          }
        }
      ]
    },
    {
      "cell_type": "markdown",
      "metadata": {
        "id": "YMFvrIFqW1WN",
        "colab_type": "text"
      },
      "source": [
        "## Evaluation with Digits dataset"
      ]
    },
    {
      "cell_type": "code",
      "metadata": {
        "id": "gekxwpIUW0Dp",
        "colab_type": "code",
        "outputId": "57558de1-dd4b-4e46-e3fd-e9b0d091d3eb",
        "colab": {
          "base_uri": "https://localhost:8080/",
          "height": 102
        }
      },
      "source": [
        "pe = PerformanceEvaluator(X,y)\n",
        "pe.evaluate(clfs)"
      ],
      "execution_count": 23,
      "outputs": [
        {
          "output_type": "stream",
          "text": [
            "       LogisticRegression: 0.9629629629629629\n",
            "   RandomForestClassifier: 0.9764309764309764\n",
            "                    ZeroR: 0.08922558922558922\n",
            "Artificial Neural Network: 0.9595959595959596\n",
            "    ANN with Hidden Layer: 0.9663299663299664\n"
          ],
          "name": "stdout"
        }
      ]
    },
    {
      "cell_type": "markdown",
      "metadata": {
        "id": "ghAw-Tz2XmiB",
        "colab_type": "text"
      },
      "source": [
        "# Creating a cheat ANN"
      ]
    },
    {
      "cell_type": "code",
      "metadata": {
        "id": "unqbG_bTXqp_",
        "colab_type": "code",
        "colab": {}
      },
      "source": [
        "import tensorflow as tf\n",
        "\n",
        "class Cheatter(BaseEstimator, ClassifierMixin):\n",
        "  def __init__(self):    \n",
        "    self.model = tf.keras.models.Sequential([\n",
        "        tf.keras.layers.Dense(128, activation='sigmoid'),\n",
        "        tf.keras.layers.Dense(10, activation='sigmoid')\n",
        "    ])    \n",
        "    self.model.compile(optimizer='rmsprop',\n",
        "                       loss='binary_crossentropy')\n",
        "  \n",
        "  def fit(self, X, y=None):\n",
        "    self.labels, ids = np.unique(y, return_inverse=True)\n",
        "    y_cat = tf.compat.v1.keras.utils.to_categorical(ids)\n",
        "    self.model.fit(X,y_cat, epochs=1, verbose=False)\n",
        "    \n",
        "  def predict(self, X, y=None):\n",
        "    predictions = self.model.predict(X)\n",
        "    return self.labels[np.argmax(predictions,axis=1)]\n"
      ],
      "execution_count": 0,
      "outputs": []
    },
    {
      "cell_type": "markdown",
      "metadata": {
        "id": "1JVUlO78iWkm",
        "colab_type": "text"
      },
      "source": [
        "## Cheat evaluator"
      ]
    },
    {
      "cell_type": "code",
      "metadata": {
        "id": "ho2BIWfXiY_S",
        "colab_type": "code",
        "colab": {}
      },
      "source": [
        "class CheatPerformanceEvaluator():\n",
        "  def __init__(self, X, y):\n",
        "    self.X = X\n",
        "    self.y = y\n",
        "  def score(self, clf):\n",
        "    self.X_train, self.X_test, self.y_train, self.y_test = train_test_split(self.X, self.y, test_size=0.33)\n",
        "    clf.fit(self.X_train,self.y_train)\n",
        "    return clf.score(self.X_test,self.y_test)"
      ],
      "execution_count": 0,
      "outputs": []
    },
    {
      "cell_type": "markdown",
      "metadata": {
        "id": "eVCcKlRYl4Sd",
        "colab_type": "text"
      },
      "source": [
        "## Cheat evaluation"
      ]
    },
    {
      "cell_type": "code",
      "metadata": {
        "id": "R23eiAKiaGPk",
        "colab_type": "code",
        "outputId": "fb4f07e7-a2c7-4716-c4ba-7ba1109e6527",
        "colab": {
          "base_uri": "https://localhost:8080/",
          "height": 850
        }
      },
      "source": [
        "cpe = CheatPerformanceEvaluator(X,y)\n",
        "cheat = Pipeline([\n",
        "    ('Standadization', StandardScaler()),\n",
        "    ('cheatter', Cheatter())\n",
        "])\n",
        "scores = []\n",
        "rounds = 30\n",
        "for i in range(rounds):\n",
        "  scores.append(cpe.score(cheat))\n",
        "  print('{:>3}: {}'.format(i+1,scores[-1]))\n",
        "plt.plot(list(range(1,rounds+1)),scores)\n",
        "plt.show()"
      ],
      "execution_count": 26,
      "outputs": [
        {
          "output_type": "stream",
          "text": [
            "WARNING:tensorflow:From /usr/local/lib/python3.6/dist-packages/tensorflow/python/ops/nn_impl.py:180: add_dispatch_support.<locals>.wrapper (from tensorflow.python.ops.array_ops) is deprecated and will be removed in a future version.\n",
            "Instructions for updating:\n",
            "Use tf.where in 2.0, which has the same broadcast rule as np.where\n",
            "  1: 0.702020202020202\n",
            "  2: 0.8417508417508418\n",
            "  3: 0.8922558922558923\n",
            "  4: 0.9208754208754208\n",
            "  5: 0.9377104377104377\n",
            "  6: 0.9225589225589226\n",
            "  7: 0.9343434343434344\n",
            "  8: 0.9276094276094277\n",
            "  9: 0.9528619528619529\n",
            " 10: 0.9629629629629629\n",
            " 11: 0.9579124579124579\n",
            " 12: 0.9629629629629629\n",
            " 13: 0.9646464646464646\n",
            " 14: 0.9730639730639731\n",
            " 15: 0.9747474747474747\n",
            " 16: 0.9781144781144782\n",
            " 17: 0.9713804713804713\n",
            " 18: 0.9713804713804713\n",
            " 19: 0.9730639730639731\n",
            " 20: 0.9730639730639731\n",
            " 21: 0.9747474747474747\n",
            " 22: 0.9831649831649831\n",
            " 23: 0.9831649831649831\n",
            " 24: 0.9831649831649831\n",
            " 25: 0.9831649831649831\n",
            " 26: 0.9781144781144782\n",
            " 27: 0.9797979797979798\n",
            " 28: 0.9831649831649831\n",
            " 29: 0.9831649831649831\n",
            " 30: 0.9848484848484849\n"
          ],
          "name": "stdout"
        },
        {
          "output_type": "display_data",
          "data": {
            "image/png": "[encoded data removed]",
            "text/plain": [
              "<Figure size 432x288 with 1 Axes>"
            ]
          },
          "metadata": {
            "tags": []
          }
        }
      ]
    },
    {
      "cell_type": "markdown",
      "metadata": {
        "id": "B_J_jp6MqlDH",
        "colab_type": "text"
      },
      "source": [
        "# Exercise\n"
      ]
    },
    {
      "cell_type": "markdown",
      "metadata": {
        "id": "bVfefvFD19gT",
        "colab_type": "text"
      },
      "source": [
        "Improve the class PerformanceEvaluator to:\n",
        "\n",
        "1.   perform the evaluation of many datasets with many classifiers;\n",
        "2.   change the performance evaluation by parameter (using a cross validation instead a train/test evalutation);\n",
        "3.   measure the time spend for each evaluation;\n",
        "4.   create simple statistics (mean, standard deviation, ...);\n",
        "5.   return a table with the most important statistics.\n",
        "\n",
        "\n",
        "\n",
        "\n",
        "\n",
        "\n"
      ]
    }
  ]
}